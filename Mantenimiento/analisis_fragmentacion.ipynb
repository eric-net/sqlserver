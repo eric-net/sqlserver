{
    "metadata": {
        "kernelspec": {
            "name": "SQL",
            "display_name": "SQL",
            "language": "sql"
        },
        "language_info": {
            "name": "sql",
            "version": ""
        }
    },
    "nbformat_minor": 2,
    "nbformat": 4,
    "cells": [
        {
            "cell_type": "markdown",
            "source": [
                "# Análisis de fragmentación de tablas/índices\n",
                "\n",
                "<span style=\"font-size: 14px;\">Para ver si una BBDD necesita que se apliquen técnicas de defragmentación, esto te ayudaría:</span>\n",
                "\n",
                "- **Fragmentación de índices**: La fragmentación es un indicador de que los índices pueden necesitar mantenimiento. Puedes usar la función sys.dm\\_db\\_index\\_physical\\_stats para obtener información sobre la fragmentación de índices en tu base de datos.\n",
                "    \n",
                "- <span style=\"font-size: 14px;\"><b>Estadísticas desactualizadas</b>: Las estadísticas desactualizadas pueden llevar a SQL Server a tomar decisiones de optimización subóptimas. Puedes usar la función sys.dm_db_stats_properties para ver cuándo se actualizaron por última vez las estadísticas.</span>\n",
                "    \n",
                "- <span style=\"font-size: 14px;\"><b>Rendimiento de la consulta</b>: Si las consultas se están volviendo más lentas con el tiempo, puede ser un indicador de que los índices necesitan mantenimiento.</span>\n",
                "    \n",
                "\n",
                "  \n",
                "\n",
                "Normalmente las operaciones de defragmentación se agendan con SQL Server Agent. Busca si hay algún job que nombre mantenimiento, maintenance, index\\_rebuild, etc. que muestre indicios de que hay algo implementado.\n",
                "\n",
                "  \n",
                "\n",
                "Si no localizas nada, probablemente no haya estrategia de mantenimiento implementada."
            ],
            "metadata": {
                "azdata_cell_guid": "8cf1a021-7c87-4e11-a147-ff45b5590567"
            },
            "attachments": {}
        },
        {
            "cell_type": "markdown",
            "source": [
                "# Fragmentación de índices"
            ],
            "metadata": {
                "language": "sql",
                "azdata_cell_guid": "80575204-0e26-4618-85d3-ab58ae305e6c"
            },
            "attachments": {}
        },
        {
            "cell_type": "code",
            "source": [
                "SELECT \r\n",
                "    dbschemas.[name] as 'Schema',\r\n",
                "    dbtables.[name] as 'Table',\r\n",
                "    dbindexes.[name] as 'Index',\r\n",
                "    indexstats.avg_fragmentation_in_percent,\r\n",
                "    indexstats.page_count\r\n",
                "FROM \r\n",
                "    sys.dm_db_index_physical_stats (DB_ID(), NULL, NULL, NULL, NULL) AS indexstats\r\n",
                "INNER JOIN \r\n",
                "    sys.tables dbtables on dbtables.[object_id] = indexstats.[object_id]\r\n",
                "INNER JOIN \r\n",
                "    sys.schemas dbschemas on dbtables.[schema_id] = dbschemas.[schema_id]\r\n",
                "INNER JOIN \r\n",
                "    sys.indexes AS dbindexes ON dbindexes.[object_id] = indexstats.[object_id]\r\n",
                "    AND indexstats.index_id = dbindexes.index_id\r\n",
                "WHERE   \r\n",
                "    indexstats.database_id = DB_ID()\r\n",
                "ORDER BY \r\n",
                "    indexstats.avg_fragmentation_in_percent desc\r\n",
                ""
            ],
            "metadata": {
                "azdata_cell_guid": "e76b7d71-f9a7-48a0-8ae1-b450fe7de758",
                "language": "sql",
                "tags": [
                    "hide_input"
                ]
            },
            "outputs": [],
            "execution_count": null
        },
        {
            "cell_type": "markdown",
            "source": [
                "# Estadisticas desactualizadas"
            ],
            "metadata": {
                "language": "sql",
                "azdata_cell_guid": "a5ee3a6b-738d-41d1-8a46-16fac02c88f4"
            },
            "attachments": {}
        },
        {
            "cell_type": "code",
            "source": [
                "SELECT \r\n",
                "    OBJECT_NAME(s.object_id) AS ObjectName,\r\n",
                "    i.name AS IndexName,\r\n",
                "    s.name AS StatName,\r\n",
                "    STATS_DATE(s.object_id, s.stats_id) AS LastUpdated,\r\n",
                "    sp.modification_counter AS ModificationCounter\r\n",
                "FROM \r\n",
                "    sys.stats AS s \r\n",
                "JOIN \r\n",
                "    sys.indexes AS i ON s.object_id = i.object_id AND s.stats_id = i.index_id\r\n",
                "CROSS APPLY \r\n",
                "    sys.dm_db_stats_properties(s.object_id, s.stats_id) AS sp\r\n",
                "WHERE \r\n",
                "    sp.modification_counter > 0\r\n",
                "ORDER BY \r\n",
                "    sp.modification_counter DESC;\r\n",
                ""
            ],
            "metadata": {
                "language": "sql",
                "azdata_cell_guid": "57bc56a8-2ada-4108-9dba-bc2a73611a00",
                "tags": [
                    "hide_input"
                ]
            },
            "outputs": [],
            "execution_count": null
        }
    ]
}