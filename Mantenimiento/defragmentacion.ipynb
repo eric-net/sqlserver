{
    "metadata": {
        "kernelspec": {
            "name": "SQL",
            "display_name": "SQL",
            "language": "sql"
        },
        "language_info": {
            "name": "sql",
            "version": ""
        }
    },
    "nbformat_minor": 2,
    "nbformat": 4,
    "cells": [
        {
            "cell_type": "markdown",
            "source": [
                "# Mantenimiento de tablas e índices\n",
                "\n",
                "- Se necesita darle mantenimiento a tablas e índices para tener la información \"compactada\".\n",
                "- Por lo general, con implementar lo scripts de Ola Hallengren es suficiente ([SQL Server Backup, Integrity Check, Index and Statistics Maintenance (hallengren.com)](https://ola.hallengren.com/)).\n",
                "- Para una buena implementación, se necesita conocer los fundamentos.\n",
                "\n",
                "## Guia de estudio\n",
                "\n",
                "- importancia de mantenimiento de índices para mejorar rendimiento:\n",
                "    - Microsoft Learn: [Maintaining indexes optimally to improve performance and reduce resource utilization - SQL Server | Microsoft Learn](https://learn.microsoft.com/en-us/sql/relational-databases/indexes/reorganize-and-rebuild-indexes?view=sql-server-ver16)\n",
                "    - \n",
                "- Rebuild vs reorganize\n",
                "    - Reorganización de índices: [Maintaining indexes optimally to improve performance and reduce resource utilization - SQL Server | Microsoft Learn](https://learn.microsoft.com/en-us/sql/relational-databases/indexes/reorganize-and-rebuild-indexes?view=sql-server-ver16#reorganize-an-index)\n",
                "        - Conceptos, densidad de relleno, fragmentación, arbol b.\n",
                "    - Reconstrucción de índices: [Maintaining indexes optimally to improve performance and reduce resource utilization - SQL Server | Microsoft Learn](https://learn.microsoft.com/en-us/sql/relational-databases/indexes/reorganize-and-rebuild-indexes?view=sql-server-ver16#rebuild-an-index)\n",
                "    - Blog Visionarios: ([Indices En SQL Server: Diferencias Entre Rebuild Y Reorganize | Visionarios (blogvisionarios.com)](https://blogvisionarios.com/articulos-data/indices-en-sql-server-diferencias-entre-rebuild-y-reorganize/).\n",
                "    - stackoverflow: [Reorganise index vs Rebuild Index in Sql Server Maintenance plan - Stack Overflow](https://stackoverflow.com/questions/7579/reorganise-index-vs-rebuild-index-in-sql-server-maintenance-plan)).\n",
                "    - BrentOzar: [Rebuild or Reorganize: Configure SQL Server Index Maintenance (brentozar.com)](https://www.brentozar.com/archive/2013/09/index-maintenance-sql-server-rebuild-reorganize/).\n",
                "    - Paul Randall: [SQLskills SQL101: REBUILD vs. REORGANIZE - Paul S. Randal](https://www.sqlskills.com/blogs/paul/sqlskills-sql101-rebuild-vs-reorganize/).\n",
                "\n",
                "  \n",
                "\n",
                "Si has estudiado en profundidad los artículos anteriores, tendrás los fundamentos que se necesitan para implementar una buena estrategia de mantenimiento de índices.\n",
                "\n",
                "  \n",
                "\n",
                "## Decisiónes que deben tomarse\n",
                "\n",
                "- Si eres empresa 24x7 importante utilizar operaciones en línea (edición Enterprise).\n",
                "- Si eres 24x7 y no tienes Enterprise sufrirás. Si no sufres, es que no eres del todo 24x7.\n",
                "- Si no eres 24x7, identifica el tiempo/ventana disponible.\n",
                "- Volumetría de tablas.\n",
                "- Reorganización o reconstrucción."
            ],
            "metadata": {
                "azdata_cell_guid": "8cf1a021-7c87-4e11-a147-ff45b5590567"
            },
            "attachments": {}
        }
    ]
}